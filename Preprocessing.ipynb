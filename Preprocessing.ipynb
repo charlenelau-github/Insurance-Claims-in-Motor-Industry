{
 "cells": [
  {
   "cell_type": "markdown",
   "metadata": {},
   "source": [
    "# Data Preprocessing"
   ]
  },
  {
   "cell_type": "code",
   "execution_count": 187,
   "metadata": {
    "collapsed": true
   },
   "outputs": [],
   "source": [
    "import pandas as pd\n",
    "import os"
   ]
  },
  {
   "cell_type": "code",
   "execution_count": 188,
   "metadata": {
    "collapsed": true,
    "scrolled": false
   },
   "outputs": [],
   "source": [
    "#read in csv files\n",
    "def readdata(dir):\n",
    "    DataFrame = pd.DataFrame()\n",
    "    for files in [f for f in os.listdir(dir) if not f.startswith('.')]:\n",
    "        data = pd.read_csv(dir+\"/\"+files)\n",
    "        data['Alias\\tTool.serial.number\\tProduct.type'] = files.rsplit('_', 1)[0]\n",
    "        DataFrame = DataFrame.append(data)\n",
    "    return DataFrame\n",
    "df1 = readdata(\"/home/xli93/Capstone KLA/data/part1\")\n",
    "df2 = readdata(\"/home/xli93/Capstone KLA/data/part2\")\n",
    "df = df1.append(df2)"
   ]
  },
  {
   "cell_type": "code",
   "execution_count": 189,
   "metadata": {
    "collapsed": true
   },
   "outputs": [],
   "source": [
    "#drop irelevant product records\n",
    "df = df.loc[df['Product.type'].isin(['OneStep','SX-70','Land'])]"
   ]
  },
  {
   "cell_type": "code",
   "execution_count": 190,
   "metadata": {
    "collapsed": true
   },
   "outputs": [],
   "source": [
    "#drop duplicate records; keep one of the duplicates.\n",
    "df = df.drop_duplicates(['Alias\\tTool.serial.number\\tProduct.type','Run.time','Result.Name'],keep = 'first')"
   ]
  },
  {
   "cell_type": "code",
   "execution_count": 191,
   "metadata": {
    "collapsed": true
   },
   "outputs": [],
   "source": [
    "#keep only numerical attributes\n",
    "df = df.loc[df['Units']!='No Unit']"
   ]
  },
  {
   "cell_type": "code",
   "execution_count": 192,
   "metadata": {},
   "outputs": [
    {
     "data": {
      "text/plain": [
       "['Run.time',\n",
       " 'Result.Name',\n",
       " 'Result',\n",
       " 'Measured.value',\n",
       " 'Units',\n",
       " 'Low.limit',\n",
       " 'High.limit',\n",
       " 'User.name',\n",
       " 'Product.type',\n",
       " 'Tool.serial.number',\n",
       " 'Alias\\tTool.serial.number\\tProduct.type']"
      ]
     },
     "execution_count": 192,
     "metadata": {},
     "output_type": "execute_result"
    }
   ],
   "source": [
    "#columns\n",
    "list(df)"
   ]
  },
  {
   "cell_type": "code",
   "execution_count": 182,
   "metadata": {
    "collapsed": true
   },
   "outputs": [],
   "source": [
    "#Write aggregated data to csv\n",
    "df.to_csv(\"/home/xli93/Capstone KLA/data/Aggdata.csv\")"
   ]
  },
  {
   "cell_type": "code",
   "execution_count": 183,
   "metadata": {
    "collapsed": true
   },
   "outputs": [],
   "source": [
    "#Read tools.info.txt\n",
    "tools = pd.read_table('/home/xli93/Capstone KLA/data/Tool Info.txt',delimiter=\"\\t\",header = 0)"
   ]
  },
  {
   "cell_type": "code",
   "execution_count": 184,
   "metadata": {
    "collapsed": true
   },
   "outputs": [],
   "source": [
    "#Parse data by serial number\n",
    "for serial in df['Tool.serial.number'].unique():\n",
    "    data = df.loc[df['Tool.serial.number']==serial]\n",
    "    dataPivot = data.pivot_table(index=['Run.time','Alias\\tTool.serial.number\\tProduct.type','Product.type','Tool.serial.number'], columns='Result.Name', values='Measured.value',aggfunc='first')\n",
    "    data.to_csv(\"/home/xli93/Capstone KLA/data/Cleaned_Data/{}.csv\".format(serial))\n",
    "    dataPivot.to_csv(\"/home/xli93/Capstone KLA/data/Cleaned_Data_Transformed/{}.csv\".format(serial))    "
   ]
  },
  {
   "cell_type": "code",
   "execution_count": 193,
   "metadata": {
    "collapsed": true
   },
   "outputs": [],
   "source": [
    "#pivot data frame\n",
    "dfTransformed = df.pivot_table(index=['Run.time','Alias\\tTool.serial.number\\tProduct.type','Product.type','Tool.serial.number'], columns='Result.Name', values='Measured.value',aggfunc='first')"
   ]
  },
  {
   "cell_type": "code",
   "execution_count": 194,
   "metadata": {
    "collapsed": true,
    "scrolled": false
   },
   "outputs": [],
   "source": [
    "#write into csv\n",
    "dfTransformed.to_csv(\"/home/xli93/Capstone KLA/data/Data_Tranformed.csv\")"
   ]
  },
  {
   "cell_type": "code",
   "execution_count": null,
   "metadata": {
    "collapsed": true
   },
   "outputs": [],
   "source": []
  }
 ],
 "metadata": {
  "kernelspec": {
   "display_name": "Python 3",
   "language": "python",
   "name": "python3"
  },
  "language_info": {
   "codemirror_mode": {
    "name": "ipython",
    "version": 3
   },
   "file_extension": ".py",
   "mimetype": "text/x-python",
   "name": "python",
   "nbconvert_exporter": "python",
   "pygments_lexer": "ipython3",
   "version": "3.6.3"
  }
 },
 "nbformat": 4,
 "nbformat_minor": 2
}
